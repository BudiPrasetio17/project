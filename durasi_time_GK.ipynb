{
 "cells": [
  {
   "cell_type": "code",
   "execution_count": 1,
   "id": "cff57bbc",
   "metadata": {},
   "outputs": [],
   "source": [
    "import pandas as pd\n",
    "import numpy as np"
   ]
  },
  {
   "cell_type": "code",
   "execution_count": 2,
   "id": "48df9c16",
   "metadata": {},
   "outputs": [],
   "source": [
    "df = pd.read_csv('D:/Belajar/Data Analysis/Dataset/peak_time_2_juli.csv')"
   ]
  },
  {
   "cell_type": "code",
   "execution_count": 3,
   "id": "8d13e7e3",
   "metadata": {},
   "outputs": [
    {
     "data": {
      "text/html": [
       "<div>\n",
       "<style scoped>\n",
       "    .dataframe tbody tr th:only-of-type {\n",
       "        vertical-align: middle;\n",
       "    }\n",
       "\n",
       "    .dataframe tbody tr th {\n",
       "        vertical-align: top;\n",
       "    }\n",
       "\n",
       "    .dataframe thead th {\n",
       "        text-align: right;\n",
       "    }\n",
       "</style>\n",
       "<table border=\"1\" class=\"dataframe\">\n",
       "  <thead>\n",
       "    <tr style=\"text-align: right;\">\n",
       "      <th></th>\n",
       "      <th>create_date</th>\n",
       "      <th>start</th>\n",
       "      <th>edit</th>\n",
       "      <th>finish</th>\n",
       "      <th>due_date</th>\n",
       "    </tr>\n",
       "  </thead>\n",
       "  <tbody>\n",
       "    <tr>\n",
       "      <th>0</th>\n",
       "      <td>2022-07-04 20:31:21</td>\n",
       "      <td>2022-07-04 20:32:56</td>\n",
       "      <td>2022-07-04 20:35:19</td>\n",
       "      <td>2022-07-04 20:35:24</td>\n",
       "      <td>2022-07-05 20:31:21</td>\n",
       "    </tr>\n",
       "    <tr>\n",
       "      <th>1</th>\n",
       "      <td>2022-07-17 07:55:35</td>\n",
       "      <td>2022-07-17 07:57:27</td>\n",
       "      <td>2022-07-17 07:59:56</td>\n",
       "      <td>2022-07-17 08:00:01</td>\n",
       "      <td>2022-07-18 07:55:35</td>\n",
       "    </tr>\n",
       "    <tr>\n",
       "      <th>2</th>\n",
       "      <td>2022-07-16 04:38:18</td>\n",
       "      <td>2022-07-16 04:39:52</td>\n",
       "      <td>2022-07-16 04:42:56</td>\n",
       "      <td>2022-07-16 04:43:03</td>\n",
       "      <td>2022-07-17 04:38:18</td>\n",
       "    </tr>\n",
       "    <tr>\n",
       "      <th>3</th>\n",
       "      <td>2022-07-20 04:54:40</td>\n",
       "      <td>2022-07-20 04:57:15</td>\n",
       "      <td>2022-07-20 04:59:27</td>\n",
       "      <td>2022-07-20 04:59:35</td>\n",
       "      <td>2022-07-21 04:54:40</td>\n",
       "    </tr>\n",
       "    <tr>\n",
       "      <th>4</th>\n",
       "      <td>2022-07-04 20:02:28</td>\n",
       "      <td>2022-07-04 20:04:46</td>\n",
       "      <td>2022-07-04 20:07:38</td>\n",
       "      <td>2022-07-04 20:07:43</td>\n",
       "      <td>2022-07-05 20:02:28</td>\n",
       "    </tr>\n",
       "  </tbody>\n",
       "</table>\n",
       "</div>"
      ],
      "text/plain": [
       "           create_date                start                 edit  \\\n",
       "0  2022-07-04 20:31:21  2022-07-04 20:32:56  2022-07-04 20:35:19   \n",
       "1  2022-07-17 07:55:35  2022-07-17 07:57:27  2022-07-17 07:59:56   \n",
       "2  2022-07-16 04:38:18  2022-07-16 04:39:52  2022-07-16 04:42:56   \n",
       "3  2022-07-20 04:54:40  2022-07-20 04:57:15  2022-07-20 04:59:27   \n",
       "4  2022-07-04 20:02:28  2022-07-04 20:04:46  2022-07-04 20:07:38   \n",
       "\n",
       "                finish             due_date  \n",
       "0  2022-07-04 20:35:24  2022-07-05 20:31:21  \n",
       "1  2022-07-17 08:00:01  2022-07-18 07:55:35  \n",
       "2  2022-07-16 04:43:03  2022-07-17 04:38:18  \n",
       "3  2022-07-20 04:59:35  2022-07-21 04:54:40  \n",
       "4  2022-07-04 20:07:43  2022-07-05 20:02:28  "
      ]
     },
     "execution_count": 3,
     "metadata": {},
     "output_type": "execute_result"
    }
   ],
   "source": [
    "df.head()"
   ]
  },
  {
   "cell_type": "code",
   "execution_count": 4,
   "id": "6053a936",
   "metadata": {},
   "outputs": [
    {
     "name": "stdout",
     "output_type": "stream",
     "text": [
      "<class 'pandas.core.frame.DataFrame'>\n",
      "RangeIndex: 4105 entries, 0 to 4104\n",
      "Data columns (total 5 columns):\n",
      " #   Column       Non-Null Count  Dtype \n",
      "---  ------       --------------  ----- \n",
      " 0   create_date  1013 non-null   object\n",
      " 1   start        1013 non-null   object\n",
      " 2   edit         1013 non-null   object\n",
      " 3   finish       1004 non-null   object\n",
      " 4   due_date     1013 non-null   object\n",
      "dtypes: object(5)\n",
      "memory usage: 160.5+ KB\n"
     ]
    }
   ],
   "source": [
    "df.info()"
   ]
  },
  {
   "cell_type": "code",
   "execution_count": 5,
   "id": "8ccbe2e6",
   "metadata": {},
   "outputs": [],
   "source": [
    "df['create_date'] = pd.to_datetime(df['create_date'])\n",
    "df['start'] = pd.to_datetime(df['start'])\n",
    "df['edit'] = pd.to_datetime(df['edit'])\n",
    "df['finish'] = pd.to_datetime(df['finish'])\n",
    "df['due_date'] = pd.to_datetime(df['due_date'])"
   ]
  },
  {
   "cell_type": "code",
   "execution_count": 6,
   "id": "9e785642",
   "metadata": {},
   "outputs": [
    {
     "name": "stdout",
     "output_type": "stream",
     "text": [
      "<class 'pandas.core.frame.DataFrame'>\n",
      "RangeIndex: 4105 entries, 0 to 4104\n",
      "Data columns (total 5 columns):\n",
      " #   Column       Non-Null Count  Dtype         \n",
      "---  ------       --------------  -----         \n",
      " 0   create_date  1013 non-null   datetime64[ns]\n",
      " 1   start        1013 non-null   datetime64[ns]\n",
      " 2   edit         1013 non-null   datetime64[ns]\n",
      " 3   finish       1004 non-null   datetime64[ns]\n",
      " 4   due_date     1013 non-null   datetime64[ns]\n",
      "dtypes: datetime64[ns](5)\n",
      "memory usage: 160.5 KB\n"
     ]
    }
   ],
   "source": [
    "df.info()"
   ]
  },
  {
   "cell_type": "code",
   "execution_count": 7,
   "id": "dc04f45b",
   "metadata": {},
   "outputs": [
    {
     "data": {
      "text/html": [
       "<div>\n",
       "<style scoped>\n",
       "    .dataframe tbody tr th:only-of-type {\n",
       "        vertical-align: middle;\n",
       "    }\n",
       "\n",
       "    .dataframe tbody tr th {\n",
       "        vertical-align: top;\n",
       "    }\n",
       "\n",
       "    .dataframe thead th {\n",
       "        text-align: right;\n",
       "    }\n",
       "</style>\n",
       "<table border=\"1\" class=\"dataframe\">\n",
       "  <thead>\n",
       "    <tr style=\"text-align: right;\">\n",
       "      <th></th>\n",
       "      <th>create_date</th>\n",
       "      <th>start</th>\n",
       "      <th>edit</th>\n",
       "      <th>finish</th>\n",
       "      <th>due_date</th>\n",
       "    </tr>\n",
       "  </thead>\n",
       "  <tbody>\n",
       "    <tr>\n",
       "      <th>0</th>\n",
       "      <td>2022-07-04 20:31:21</td>\n",
       "      <td>2022-07-04 20:32:56</td>\n",
       "      <td>2022-07-04 20:35:19</td>\n",
       "      <td>2022-07-04 20:35:24</td>\n",
       "      <td>2022-07-05 20:31:21</td>\n",
       "    </tr>\n",
       "    <tr>\n",
       "      <th>1</th>\n",
       "      <td>2022-07-17 07:55:35</td>\n",
       "      <td>2022-07-17 07:57:27</td>\n",
       "      <td>2022-07-17 07:59:56</td>\n",
       "      <td>2022-07-17 08:00:01</td>\n",
       "      <td>2022-07-18 07:55:35</td>\n",
       "    </tr>\n",
       "    <tr>\n",
       "      <th>2</th>\n",
       "      <td>2022-07-16 04:38:18</td>\n",
       "      <td>2022-07-16 04:39:52</td>\n",
       "      <td>2022-07-16 04:42:56</td>\n",
       "      <td>2022-07-16 04:43:03</td>\n",
       "      <td>2022-07-17 04:38:18</td>\n",
       "    </tr>\n",
       "    <tr>\n",
       "      <th>3</th>\n",
       "      <td>2022-07-20 04:54:40</td>\n",
       "      <td>2022-07-20 04:57:15</td>\n",
       "      <td>2022-07-20 04:59:27</td>\n",
       "      <td>2022-07-20 04:59:35</td>\n",
       "      <td>2022-07-21 04:54:40</td>\n",
       "    </tr>\n",
       "    <tr>\n",
       "      <th>4</th>\n",
       "      <td>2022-07-04 20:02:28</td>\n",
       "      <td>2022-07-04 20:04:46</td>\n",
       "      <td>2022-07-04 20:07:38</td>\n",
       "      <td>2022-07-04 20:07:43</td>\n",
       "      <td>2022-07-05 20:02:28</td>\n",
       "    </tr>\n",
       "  </tbody>\n",
       "</table>\n",
       "</div>"
      ],
      "text/plain": [
       "          create_date               start                edit  \\\n",
       "0 2022-07-04 20:31:21 2022-07-04 20:32:56 2022-07-04 20:35:19   \n",
       "1 2022-07-17 07:55:35 2022-07-17 07:57:27 2022-07-17 07:59:56   \n",
       "2 2022-07-16 04:38:18 2022-07-16 04:39:52 2022-07-16 04:42:56   \n",
       "3 2022-07-20 04:54:40 2022-07-20 04:57:15 2022-07-20 04:59:27   \n",
       "4 2022-07-04 20:02:28 2022-07-04 20:04:46 2022-07-04 20:07:38   \n",
       "\n",
       "               finish            due_date  \n",
       "0 2022-07-04 20:35:24 2022-07-05 20:31:21  \n",
       "1 2022-07-17 08:00:01 2022-07-18 07:55:35  \n",
       "2 2022-07-16 04:43:03 2022-07-17 04:38:18  \n",
       "3 2022-07-20 04:59:35 2022-07-21 04:54:40  \n",
       "4 2022-07-04 20:07:43 2022-07-05 20:02:28  "
      ]
     },
     "execution_count": 7,
     "metadata": {},
     "output_type": "execute_result"
    }
   ],
   "source": [
    "df.head()"
   ]
  },
  {
   "cell_type": "code",
   "execution_count": 8,
   "id": "f332ab6f",
   "metadata": {},
   "outputs": [],
   "source": [
    "df['durasi_tiket'] = df['finish'] - df['create_date']"
   ]
  },
  {
   "cell_type": "code",
   "execution_count": 9,
   "id": "ce6eb85b",
   "metadata": {},
   "outputs": [
    {
     "data": {
      "text/html": [
       "<div>\n",
       "<style scoped>\n",
       "    .dataframe tbody tr th:only-of-type {\n",
       "        vertical-align: middle;\n",
       "    }\n",
       "\n",
       "    .dataframe tbody tr th {\n",
       "        vertical-align: top;\n",
       "    }\n",
       "\n",
       "    .dataframe thead th {\n",
       "        text-align: right;\n",
       "    }\n",
       "</style>\n",
       "<table border=\"1\" class=\"dataframe\">\n",
       "  <thead>\n",
       "    <tr style=\"text-align: right;\">\n",
       "      <th></th>\n",
       "      <th>create_date</th>\n",
       "      <th>start</th>\n",
       "      <th>edit</th>\n",
       "      <th>finish</th>\n",
       "      <th>due_date</th>\n",
       "      <th>durasi_tiket</th>\n",
       "    </tr>\n",
       "  </thead>\n",
       "  <tbody>\n",
       "    <tr>\n",
       "      <th>0</th>\n",
       "      <td>2022-07-04 20:31:21</td>\n",
       "      <td>2022-07-04 20:32:56</td>\n",
       "      <td>2022-07-04 20:35:19</td>\n",
       "      <td>2022-07-04 20:35:24</td>\n",
       "      <td>2022-07-05 20:31:21</td>\n",
       "      <td>0 days 00:04:03</td>\n",
       "    </tr>\n",
       "    <tr>\n",
       "      <th>1</th>\n",
       "      <td>2022-07-17 07:55:35</td>\n",
       "      <td>2022-07-17 07:57:27</td>\n",
       "      <td>2022-07-17 07:59:56</td>\n",
       "      <td>2022-07-17 08:00:01</td>\n",
       "      <td>2022-07-18 07:55:35</td>\n",
       "      <td>0 days 00:04:26</td>\n",
       "    </tr>\n",
       "    <tr>\n",
       "      <th>2</th>\n",
       "      <td>2022-07-16 04:38:18</td>\n",
       "      <td>2022-07-16 04:39:52</td>\n",
       "      <td>2022-07-16 04:42:56</td>\n",
       "      <td>2022-07-16 04:43:03</td>\n",
       "      <td>2022-07-17 04:38:18</td>\n",
       "      <td>0 days 00:04:45</td>\n",
       "    </tr>\n",
       "    <tr>\n",
       "      <th>3</th>\n",
       "      <td>2022-07-20 04:54:40</td>\n",
       "      <td>2022-07-20 04:57:15</td>\n",
       "      <td>2022-07-20 04:59:27</td>\n",
       "      <td>2022-07-20 04:59:35</td>\n",
       "      <td>2022-07-21 04:54:40</td>\n",
       "      <td>0 days 00:04:55</td>\n",
       "    </tr>\n",
       "    <tr>\n",
       "      <th>4</th>\n",
       "      <td>2022-07-04 20:02:28</td>\n",
       "      <td>2022-07-04 20:04:46</td>\n",
       "      <td>2022-07-04 20:07:38</td>\n",
       "      <td>2022-07-04 20:07:43</td>\n",
       "      <td>2022-07-05 20:02:28</td>\n",
       "      <td>0 days 00:05:15</td>\n",
       "    </tr>\n",
       "  </tbody>\n",
       "</table>\n",
       "</div>"
      ],
      "text/plain": [
       "          create_date               start                edit  \\\n",
       "0 2022-07-04 20:31:21 2022-07-04 20:32:56 2022-07-04 20:35:19   \n",
       "1 2022-07-17 07:55:35 2022-07-17 07:57:27 2022-07-17 07:59:56   \n",
       "2 2022-07-16 04:38:18 2022-07-16 04:39:52 2022-07-16 04:42:56   \n",
       "3 2022-07-20 04:54:40 2022-07-20 04:57:15 2022-07-20 04:59:27   \n",
       "4 2022-07-04 20:02:28 2022-07-04 20:04:46 2022-07-04 20:07:38   \n",
       "\n",
       "               finish            due_date    durasi_tiket  \n",
       "0 2022-07-04 20:35:24 2022-07-05 20:31:21 0 days 00:04:03  \n",
       "1 2022-07-17 08:00:01 2022-07-18 07:55:35 0 days 00:04:26  \n",
       "2 2022-07-16 04:43:03 2022-07-17 04:38:18 0 days 00:04:45  \n",
       "3 2022-07-20 04:59:35 2022-07-21 04:54:40 0 days 00:04:55  \n",
       "4 2022-07-04 20:07:43 2022-07-05 20:02:28 0 days 00:05:15  "
      ]
     },
     "execution_count": 9,
     "metadata": {},
     "output_type": "execute_result"
    }
   ],
   "source": [
    "df.head()"
   ]
  },
  {
   "cell_type": "code",
   "execution_count": 12,
   "id": "35f2452c",
   "metadata": {},
   "outputs": [
    {
     "name": "stdout",
     "output_type": "stream",
     "text": [
      "MIN : 0 days 00:04:03\n",
      "MAX : 9 days 17:13:56\n",
      "AVG : 1 days 21:21:32.087649402\n"
     ]
    }
   ],
   "source": [
    "print('MIN :',df['durasi_tiket'].min())\n",
    "print('MAX :',df['durasi_tiket'].max())\n",
    "print('AVG :',df['durasi_tiket'].mean())"
   ]
  },
  {
   "cell_type": "code",
   "execution_count": null,
   "id": "557bd2b5",
   "metadata": {},
   "outputs": [],
   "source": []
  }
 ],
 "metadata": {
  "kernelspec": {
   "display_name": "Python 3 (ipykernel)",
   "language": "python",
   "name": "python3"
  },
  "language_info": {
   "codemirror_mode": {
    "name": "ipython",
    "version": 3
   },
   "file_extension": ".py",
   "mimetype": "text/x-python",
   "name": "python",
   "nbconvert_exporter": "python",
   "pygments_lexer": "ipython3",
   "version": "3.10.4"
  }
 },
 "nbformat": 4,
 "nbformat_minor": 5
}
